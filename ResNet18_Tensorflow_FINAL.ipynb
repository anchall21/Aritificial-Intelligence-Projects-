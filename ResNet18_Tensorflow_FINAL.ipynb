{
  "nbformat": 4,
  "nbformat_minor": 0,
  "metadata": {
    "colab": {
      "provenance": [],
      "machine_shape": "hm"
    },
    "kernelspec": {
      "name": "python3",
      "display_name": "Python 3"
    },
    "language_info": {
      "name": "python"
    },
    "gpuClass": "premium"
  },
  "cells": [
    {
      "cell_type": "code",
      "execution_count": null,
      "metadata": {
        "id": "jeHHK9ZKNUCn"
      },
      "outputs": [],
      "source": [
        "import os\n",
        "import h5py\n",
        "import math\n",
        "import numpy as np\n",
        "import pandas as pd\n",
        "import glob\n",
        "import json\n",
        "import tensorflow as tf\n",
        "from tensorflow import keras\n",
        "from tensorflow.keras.models import Model, load_model\n",
        "from tensorflow.keras import layers\n",
        "from tensorflow.keras.layers import Input, Add, Dense, MaxPool2D,Activation, ZeroPadding2D, GlobalAveragePooling2D,BatchNormalization, Flatten, Conv2D, AveragePooling2D, MaxPooling2D, GlobalMaxPooling2D\n",
        "from tensorflow.keras.preprocessing import image\n",
        "from keras.utils import layer_utils\n",
        "from keras.utils.data_utils import get_file\n",
        "from tensorflow.keras.applications.imagenet_utils import preprocess_input\n",
        "from IPython.display import SVG\n",
        "from keras.utils.vis_utils import model_to_dot\n",
        "from tensorflow.keras.utils import plot_model\n",
        "from tensorflow.keras.initializers import glorot_uniform\n",
        "import scipy.misc\n",
        "import matplotlib.pyplot as plt\n",
        "from matplotlib.pyplot import imshow\n",
        "%matplotlib inline\n",
        "import tensorflow.keras.backend as K\n",
        "# Image dataset has channels as its last dimensions\n",
        "K.set_image_data_format('channels_last')"
      ]
    },
    {
      "cell_type": "code",
      "source": [
        "#Importing library tensorflow to operate on model\n",
        "\n",
        "import tensorflow_datasets as tfds\n",
        "import keras, os\n",
        "import numpy as np\n",
        "import tensorflow as tf\n",
        "import cv2\n",
        "import matplotlib.pyplot as plt\n",
        "\n",
        "from tensorflow.python.util import deprecation\n",
        "from tensorflow.keras import backend\n",
        "from tensorflow.keras.applications.resnet50 import preprocess_input\n",
        "\n",
        "\n",
        "from tensorflow.keras.models import Sequential\n",
        "from tensorflow.keras.layers import Dense, Conv2D, MaxPool2D, Flatten\n",
        "from tensorflow.keras.preprocessing.image import ImageDataGenerator\n",
        "from tensorflow.keras.optimizers import Adam\n",
        "from tensorflow.keras.callbacks import ModelCheckpoint, EarlyStopping\n",
        "from tensorflow.keras.applications.vgg16 import VGG16\n",
        "from keras.preprocessing import image\n",
        "from tensorflow.keras.models import load_model"
      ],
      "metadata": {
        "id": "t8Q9Pf_CP9sU"
      },
      "execution_count": null,
      "outputs": []
    },
    {
      "cell_type": "code",
      "source": [
        "pip install scikit-multilearn"
      ],
      "metadata": {
        "colab": {
          "base_uri": "https://localhost:8080/"
        },
        "id": "6yxS0rIv3Fdq",
        "outputId": "6f537cb8-75c1-4bdf-98ec-ae3bc7c4e443"
      },
      "execution_count": null,
      "outputs": [
        {
          "output_type": "stream",
          "name": "stdout",
          "text": [
            "Looking in indexes: https://pypi.org/simple, https://us-python.pkg.dev/colab-wheels/public/simple/\n",
            "Requirement already satisfied: scikit-multilearn in /usr/local/lib/python3.8/dist-packages (0.2.0)\n"
          ]
        }
      ]
    },
    {
      "cell_type": "code",
      "source": [
        "#Mounting Google drive \n",
        "\n",
        "from google.colab import drive\n",
        "drive.mount('/content/drive/')"
      ],
      "metadata": {
        "id": "4Q6VGb38Ngpj",
        "colab": {
          "base_uri": "https://localhost:8080/"
        },
        "outputId": "8c48c677-6306-4656-88ec-9ba720bd1009"
      },
      "execution_count": null,
      "outputs": [
        {
          "output_type": "stream",
          "name": "stdout",
          "text": [
            "Mounted at /content/drive/\n"
          ]
        }
      ]
    },
    {
      "cell_type": "code",
      "source": [
        "###Preparing dictionary for image labels \n",
        "\n",
        "label_map = {0:'Normal', \n",
        "             1:'Atelectasis',\n",
        "             2:'Calcification', \n",
        "             3:'Consolidation', \n",
        "             4:'Effusion', \n",
        "             5:'Emphysema', \n",
        "             6:'Fibrosis', \n",
        "             7:'Fracture', \n",
        "             8:'Mass', \n",
        "             9: 'Nodule', \n",
        "             10:'Pneumothorax'}\n",
        "\n",
        "rev_label_map = {v: k for k, v in label_map.items()}"
      ],
      "metadata": {
        "id": "f_5Dndj9NjJT"
      },
      "execution_count": null,
      "outputs": []
    },
    {
      "cell_type": "code",
      "source": [
        "###Mapping the train dataset labels with index and classes\n",
        "\n",
        "##For mapping, we use json file of labels that were a part of our dataset\n",
        "\n",
        "#In these steps, we first created a dataframe of train labels from json file and then created an array of those labels called y_train\n",
        "\n",
        "\n",
        "with open('/content/drive/MyDrive/train.json') as user_file:\n",
        "    file_contents = user_file.read()\n",
        "parsed_json = json.loads(file_contents)\n",
        "\n",
        "class_list = []\n",
        "file_list = []\n",
        "for i in parsed_json:\n",
        "    class_list.append(list(set(i['syms'])))\n",
        "    file_list.append(i['file_name'])\n",
        "\n",
        "for i in class_list:\n",
        "    if len(i)==0:\n",
        "        i.append(label_map[0])\n",
        "\n",
        "\n",
        "df = pd.DataFrame(data=class_list)\n",
        "df['label'] = pd.Series(class_list)\n",
        "df = df['label']\n",
        "df_process = pd.get_dummies(df.apply(pd.Series).stack()).sum(level=0)\n",
        "df_process['file_name'] = pd.Series(file_list)\n",
        "df_clean=df_process.drop('file_name',axis = 1)\n",
        "y_train = np.array(df_clean)\n",
        "len(y_train)"
      ],
      "metadata": {
        "id": "BjVv-RnZOKMO",
        "colab": {
          "base_uri": "https://localhost:8080/"
        },
        "outputId": "ddb18a4f-880b-4d78-f5b1-2786aecc90e3"
      },
      "execution_count": null,
      "outputs": [
        {
          "output_type": "stream",
          "name": "stderr",
          "text": [
            "<ipython-input-20-7fc2b8502d92>:26: FutureWarning: Using the level keyword in DataFrame and Series aggregations is deprecated and will be removed in a future version. Use groupby instead. df.sum(level=1) should use df.groupby(level=1).sum().\n",
            "  df_process = pd.get_dummies(df.apply(pd.Series).stack()).sum(level=0)\n"
          ]
        },
        {
          "output_type": "execute_result",
          "data": {
            "text/plain": [
              "3001"
            ]
          },
          "metadata": {},
          "execution_count": 20
        }
      ]
    },
    {
      "cell_type": "code",
      "source": [
        "#Depiction of how the array of labels look like \n",
        "\n",
        "y_train[:10] "
      ],
      "metadata": {
        "id": "Vp-GYF7XR0-C",
        "colab": {
          "base_uri": "https://localhost:8080/"
        },
        "outputId": "bfb5d01b-66c4-4148-ec24-7e8136720178"
      },
      "execution_count": null,
      "outputs": [
        {
          "output_type": "execute_result",
          "data": {
            "text/plain": [
              "array([[0, 0, 0, 0, 0, 0, 0, 0, 0, 1, 0],\n",
              "       [0, 0, 0, 0, 0, 0, 0, 0, 0, 1, 0],\n",
              "       [0, 0, 0, 0, 0, 0, 0, 0, 0, 1, 0],\n",
              "       [0, 0, 0, 0, 0, 0, 0, 0, 0, 1, 0],\n",
              "       [0, 0, 0, 0, 0, 0, 0, 0, 1, 0, 0],\n",
              "       [0, 0, 0, 0, 0, 0, 0, 0, 1, 0, 0],\n",
              "       [0, 0, 1, 0, 0, 0, 0, 0, 1, 0, 0],\n",
              "       [0, 0, 0, 1, 0, 0, 0, 0, 0, 0, 0],\n",
              "       [0, 0, 0, 0, 0, 0, 0, 0, 1, 0, 0],\n",
              "       [0, 0, 1, 1, 0, 0, 0, 0, 0, 0, 0]], dtype=uint8)"
            ]
          },
          "metadata": {},
          "execution_count": 21
        }
      ]
    },
    {
      "cell_type": "code",
      "source": [
        "###Mapping the test dataset labels with index and classes\n",
        "\n",
        "##For mapping, we use json file of labels that were a part of our dataset\n",
        "\n",
        "#In these steps, we first created a dataframe of test labels from json file and then created an array of those labels called y_test \n",
        "\n",
        "with open('/content/drive/MyDrive/test.json') as user_file:\n",
        "    file_contents = user_file.read()\n",
        "parsed_test_json = json.loads(file_contents)\n",
        "\n",
        "test_class_list = []\n",
        "test_file_list = []\n",
        "for i in parsed_test_json:\n",
        "    test_class_list.append(list(set(i['syms'])))\n",
        "    test_file_list.append(i['file_name'])\n",
        "\n",
        "\n",
        "for i in test_class_list:\n",
        "    if len(i)==0:\n",
        "        i.append(label_map[0])\n",
        "\n",
        "test_df = pd.DataFrame(data=test_class_list)\n",
        "test_df['label'] = pd.Series(test_class_list)\n",
        "test_df = test_df['label']\n",
        "test_df_process = pd.get_dummies(test_df.apply(pd.Series).stack()).sum(level=0)\n",
        "test_df_process['file_name'] = pd.Series(test_file_list)\n",
        "test_df_clean=test_df_process.drop('file_name',axis = 1)\n",
        "y_test = np.array(test_df_clean)\n",
        "len(y_test)"
      ],
      "metadata": {
        "id": "sLmQc5n4NxLv",
        "colab": {
          "base_uri": "https://localhost:8080/"
        },
        "outputId": "a7f3f510-8ffd-41b0-f8e6-4f0cd1d0c61a"
      },
      "execution_count": null,
      "outputs": [
        {
          "output_type": "stream",
          "name": "stderr",
          "text": [
            "<ipython-input-18-e35d70279e09>:25: FutureWarning: Using the level keyword in DataFrame and Series aggregations is deprecated and will be removed in a future version. Use groupby instead. df.sum(level=1) should use df.groupby(level=1).sum().\n",
            "  test_df_process = pd.get_dummies(test_df.apply(pd.Series).stack()).sum(level=0)\n"
          ]
        },
        {
          "output_type": "execute_result",
          "data": {
            "text/plain": [
              "542"
            ]
          },
          "metadata": {},
          "execution_count": 18
        }
      ]
    },
    {
      "cell_type": "code",
      "source": [
        "#Depiction of how the array of labels look like \n",
        "\n",
        "y_test[:10] "
      ],
      "metadata": {
        "id": "-eb4rmDuzhj3",
        "colab": {
          "base_uri": "https://localhost:8080/"
        },
        "outputId": "e45b1e0f-9750-4829-8e48-a8b42df0dca3"
      },
      "execution_count": null,
      "outputs": [
        {
          "output_type": "execute_result",
          "data": {
            "text/plain": [
              "array([[0, 0, 0, 0, 0, 0, 0, 0, 0, 1, 0],\n",
              "       [0, 0, 0, 1, 0, 0, 0, 0, 0, 0, 0],\n",
              "       [0, 0, 0, 0, 0, 0, 0, 0, 1, 0, 0],\n",
              "       [0, 0, 1, 1, 0, 1, 0, 0, 0, 0, 0],\n",
              "       [0, 0, 1, 0, 1, 1, 1, 1, 0, 0, 0],\n",
              "       [0, 0, 0, 0, 0, 0, 0, 0, 0, 1, 0],\n",
              "       [0, 0, 0, 1, 0, 0, 0, 0, 0, 0, 0],\n",
              "       [0, 0, 1, 1, 0, 0, 0, 0, 0, 0, 0],\n",
              "       [0, 0, 0, 0, 0, 0, 0, 0, 0, 1, 0],\n",
              "       [0, 0, 0, 0, 0, 0, 0, 0, 1, 0, 0]], dtype=uint8)"
            ]
          },
          "metadata": {},
          "execution_count": 19
        }
      ]
    },
    {
      "cell_type": "code",
      "source": [
        "#We converted the .jpg images of test and train data into a numpy array file for the ease of processing in computer vision models \n",
        "\n",
        "train_data = np.load('/content/drive/MyDrive/xray/train_image.npy', encoding='bytes')\n",
        "test_data = np.load('/content/drive/MyDrive/xray/test_image.npy', encoding='bytes')"
      ],
      "metadata": {
        "id": "aALVwdofQCWd"
      },
      "execution_count": null,
      "outputs": []
    },
    {
      "cell_type": "code",
      "source": [
        "#Checking the shape of training data \n",
        "\n",
        "train_data.shape"
      ],
      "metadata": {
        "id": "lG_7SJdzUKgs",
        "colab": {
          "base_uri": "https://localhost:8080/"
        },
        "outputId": "50cf7fa8-fb91-4116-f8a7-fdd3aea1f242"
      },
      "execution_count": null,
      "outputs": [
        {
          "output_type": "execute_result",
          "data": {
            "text/plain": [
              "(3001, 1024, 1024)"
            ]
          },
          "metadata": {},
          "execution_count": 23
        }
      ]
    },
    {
      "cell_type": "code",
      "source": [
        "#Checking the shape of testing data \n",
        "\n",
        "test_data.shape"
      ],
      "metadata": {
        "id": "1OKNxORFdOsU",
        "colab": {
          "base_uri": "https://localhost:8080/"
        },
        "outputId": "7fa65dca-4a80-4730-d271-4d6793425bea"
      },
      "execution_count": null,
      "outputs": [
        {
          "output_type": "execute_result",
          "data": {
            "text/plain": [
              "(542, 1024, 1024)"
            ]
          },
          "metadata": {},
          "execution_count": 24
        }
      ]
    },
    {
      "cell_type": "code",
      "source": [
        "#Reshaping the training dataset to reduce their size from 1024 to 224 and from 3-dimensional to 4-dimensional \n",
        "\n",
        "train_new = np.zeros((3001, 300, 300, 1))\n",
        "for i in range(3001):\n",
        "  train_new[i] = np.reshape(cv2.resize(train_data[i], (300,300)), (300,300,1))"
      ],
      "metadata": {
        "id": "I8DxyTIvYNd9"
      },
      "execution_count": null,
      "outputs": []
    },
    {
      "cell_type": "code",
      "source": [
        "#Checking new shape of training dataset \n",
        "\n",
        "train_new.shape"
      ],
      "metadata": {
        "id": "KS9y2wtzYrKz",
        "colab": {
          "base_uri": "https://localhost:8080/"
        },
        "outputId": "a18fdce6-ac9b-4b2f-9027-3687dc5a05e9"
      },
      "execution_count": null,
      "outputs": [
        {
          "output_type": "execute_result",
          "data": {
            "text/plain": [
              "(3001, 300, 300, 1)"
            ]
          },
          "metadata": {},
          "execution_count": 26
        }
      ]
    },
    {
      "cell_type": "code",
      "source": [
        "#Reshaping the testing dataset to reduce their size from 1024 to 224 and from 3-dimensional to 4-dimensional \n",
        "\n",
        "test_new = np.zeros((542,  300, 300, 1))\n",
        "for i in range(542):\n",
        "  test_new[i] = np.reshape(cv2.resize(test_data[i], (300,300)), (300,300,1))"
      ],
      "metadata": {
        "id": "VskqLgu7YaLI"
      },
      "execution_count": null,
      "outputs": []
    },
    {
      "cell_type": "code",
      "source": [
        "#Checking new shape of testing dataset \n",
        "\n",
        "test_new.shape"
      ],
      "metadata": {
        "id": "YVwNa7p7bg18",
        "colab": {
          "base_uri": "https://localhost:8080/"
        },
        "outputId": "7523c5e7-18c4-45ce-89c7-9a3952c3e637"
      },
      "execution_count": null,
      "outputs": [
        {
          "output_type": "execute_result",
          "data": {
            "text/plain": [
              "(542, 300, 300, 1)"
            ]
          },
          "metadata": {},
          "execution_count": 28
        }
      ]
    },
    {
      "cell_type": "code",
      "source": [
        "#Visualize training data label imbalances\n",
        "df_train_sum = df_clean.sum(axis=0)\n",
        "df_train_sum.plot(kind='bar')"
      ],
      "metadata": {
        "colab": {
          "base_uri": "https://localhost:8080/",
          "height": 349
        },
        "id": "GO2arg9HuQZu",
        "outputId": "79402df4-d71a-4f6d-b316-ff187402e229"
      },
      "execution_count": null,
      "outputs": [
        {
          "output_type": "execute_result",
          "data": {
            "text/plain": [
              "<matplotlib.axes._subplots.AxesSubplot at 0x7f933c3d11f0>"
            ]
          },
          "metadata": {},
          "execution_count": 29
        },
        {
          "output_type": "display_data",
          "data": {
            "text/plain": [
              "<Figure size 432x288 with 1 Axes>"
            ],
            "image/png": "[encoded data removed]"
          },
          "metadata": {
            "needs_background": "light"
          }
        }
      ]
    },
    {
      "cell_type": "code",
      "source": [
        "#Visualize testing data label imbalances\n",
        "df_test_sum = test_df_clean.sum(axis=0)\n",
        "df_test_sum.plot(kind='bar')"
      ],
      "metadata": {
        "colab": {
          "base_uri": "https://localhost:8080/",
          "height": 348
        },
        "id": "xz6gg1IHuVyT",
        "outputId": "2abf1d1f-e353-4b86-9970-f54ad16a0b9e"
      },
      "execution_count": null,
      "outputs": [
        {
          "output_type": "execute_result",
          "data": {
            "text/plain": [
              "<matplotlib.axes._subplots.AxesSubplot at 0x7f933c415ac0>"
            ]
          },
          "metadata": {},
          "execution_count": 30
        },
        {
          "output_type": "display_data",
          "data": {
            "text/plain": [
              "<Figure size 432x288 with 1 Axes>"
            ],
            "image/png": "[encoded data removed]"
          },
          "metadata": {
            "needs_background": "light"
          }
        }
      ]
    },
    {
      "cell_type": "code",
      "source": [
        "#Stratifying data while splitting train and validation data\n",
        "from skmultilearn.model_selection import iterative_train_test_split\n",
        "X_train, y_train, X_val, y_val = iterative_train_test_split(train_new, y_train, test_size = 0.1)"
      ],
      "metadata": {
        "id": "ch1XGxFxv0nJ"
      },
      "execution_count": null,
      "outputs": []
    },
    {
      "cell_type": "code",
      "source": [
        "#Setting up resnet blocks and rsnet model\n",
        "class ResnetBlock(Model):\n",
        "    \"\"\"\n",
        "    A standard resnet block.\n",
        "    \"\"\"\n",
        "\n",
        "    def __init__(self, channels: int, down_sample=False):\n",
        "        \"\"\"\n",
        "        channels: same as number of convolution kernels\n",
        "        \"\"\"\n",
        "        super().__init__()\n",
        "\n",
        "        self.__channels = channels\n",
        "        self.__down_sample = down_sample\n",
        "        self.__strides = [2, 1] if down_sample else [1, 1]\n",
        "\n",
        "        KERNEL_SIZE = (3, 3)\n",
        "        # use He initialization, instead of Xavier (a.k.a 'glorot_uniform' in Keras), as suggested in [2]\n",
        "        INIT_SCHEME = \"he_normal\"\n",
        "\n",
        "        self.conv_1 = Conv2D(self.__channels, strides=self.__strides[0],\n",
        "                             kernel_size=KERNEL_SIZE, padding=\"same\", kernel_initializer=INIT_SCHEME)\n",
        "        self.bn_1 = BatchNormalization()\n",
        "        self.conv_2 = Conv2D(self.__channels, strides=self.__strides[1],\n",
        "                             kernel_size=KERNEL_SIZE, padding=\"same\", kernel_initializer=INIT_SCHEME)\n",
        "        self.bn_2 = BatchNormalization()\n",
        "        self.merge = Add()\n",
        "\n",
        "        if self.__down_sample:\n",
        "            # perform down sampling using stride of 2, according to [1].\n",
        "            self.res_conv = Conv2D(\n",
        "                self.__channels, strides=2, kernel_size=(1, 1), kernel_initializer=INIT_SCHEME, padding=\"same\")\n",
        "            self.res_bn = BatchNormalization()\n",
        "\n",
        "    def call(self, inputs):\n",
        "        res = inputs\n",
        "\n",
        "        x = self.conv_1(inputs)\n",
        "        x = self.bn_1(x)\n",
        "        x = tf.nn.relu(x)\n",
        "        x = self.conv_2(x)\n",
        "        x = self.bn_2(x)\n",
        "\n",
        "        if self.__down_sample:\n",
        "            res = self.res_conv(res)\n",
        "            res = self.res_bn(res)\n",
        "\n",
        "        # if not perform down sample, then add a shortcut directly\n",
        "        x = self.merge([x, res])\n",
        "        out = tf.nn.relu(x)\n",
        "        return out\n",
        "\n",
        "\n",
        "class ResNet18(Model):\n",
        "\n",
        "    def __init__(self, num_classes, **kwargs):\n",
        "        \"\"\"\n",
        "            num_classes: number of classes in specific classification task.\n",
        "        \"\"\"\n",
        "        super().__init__(**kwargs)\n",
        "        self.conv_1 = Conv2D(64, (7, 7), strides=2,\n",
        "                             padding=\"same\", kernel_initializer=\"he_normal\")\n",
        "        self.init_bn = BatchNormalization()\n",
        "        self.pool_2 = MaxPool2D(pool_size=(2, 2), strides=2, padding=\"same\")\n",
        "        self.res_1_1 = ResnetBlock(64)\n",
        "        self.res_1_2 = ResnetBlock(64)\n",
        "        self.res_2_1 = ResnetBlock(128, down_sample=True)\n",
        "        self.res_2_2 = ResnetBlock(128)\n",
        "        self.res_3_1 = ResnetBlock(256, down_sample=True)\n",
        "        self.res_3_2 = ResnetBlock(256)\n",
        "        self.res_4_1 = ResnetBlock(512, down_sample=True)\n",
        "        self.res_4_2 = ResnetBlock(512)\n",
        "        self.avg_pool = GlobalAveragePooling2D()\n",
        "        self.flat = Flatten()\n",
        "        self.fc = Dense(num_classes, activation=\"sigmoid\")\n",
        "\n",
        "    def call(self, inputs):\n",
        "        out = self.conv_1(inputs)\n",
        "        out = self.init_bn(out)\n",
        "        out = tf.nn.relu(out)\n",
        "        out = self.pool_2(out)\n",
        "        for res_block in [self.res_1_1, self.res_1_2, self.res_2_1, self.res_2_2, self.res_3_1, self.res_3_2, self.res_4_1, self.res_4_2]:\n",
        "            out = res_block(out)\n",
        "        out = self.avg_pool(out)\n",
        "        out = self.flat(out)\n",
        "        out = self.fc(out)\n",
        "        return out"
      ],
      "metadata": {
        "id": "JLvRVEAx75ve"
      },
      "execution_count": null,
      "outputs": []
    },
    {
      "cell_type": "code",
      "source": [
        "#Setting up and compiling the model\n",
        "model = ResNet18(11)\n",
        "model.build(input_shape = (None,300,300,1))\n",
        "model.compile(optimizer='adam', loss='binary_crossentropy', metrics=[tf.keras.metrics.BinaryAccuracy(),tf.keras.metrics.AUC()])"
      ],
      "metadata": {
        "colab": {
          "base_uri": "https://localhost:8080/"
        },
        "id": "vghWwAuS75yC",
        "outputId": "feb98906-93a9-4705-bf6b-222a728252d1"
      },
      "execution_count": null,
      "outputs": [
        {
          "output_type": "stream",
          "name": "stderr",
          "text": [
            "WARNING:tensorflow:AutoGraph could not transform <bound method ResnetBlock.call of <__main__.ResnetBlock object at 0x7f933c9bc4f0>> and will run it as-is.\n",
            "Cause: mangled names are not yet supported\n",
            "To silence this warning, decorate the function with @tf.autograph.experimental.do_not_convert\n"
          ]
        },
        {
          "output_type": "stream",
          "name": "stdout",
          "text": [
            "WARNING: AutoGraph could not transform <bound method ResnetBlock.call of <__main__.ResnetBlock object at 0x7f933c9bc4f0>> and will run it as-is.\n",
            "Cause: mangled names are not yet supported\n",
            "To silence this warning, decorate the function with @tf.autograph.experimental.do_not_convert\n"
          ]
        }
      ]
    },
    {
      "cell_type": "code",
      "source": [
        "# Normalizing and augmenting the data\n",
        "aug = ImageDataGenerator(horizontal_flip=True, rotation_range=10, featurewise_center=True, featurewise_std_normalization=True,  fill_mode=\"nearest\")\n",
        "aug.fit(X_train)"
      ],
      "metadata": {
        "id": "csSXOctZjwqC"
      },
      "execution_count": null,
      "outputs": []
    },
    {
      "cell_type": "code",
      "source": [
        "# Training Resnet18 model by feeding label dataset through \"aug\" for fitting the model to get training and validation accuracy per epoch\n",
        "\n",
        "batch_size=32\n",
        "model.fit(x=aug.flow(X_train, y_train, batch_size=32),validation_data=(X_val, y_val), steps_per_epoch = len(X_train)//batch_size, epochs = 10)\n"
      ],
      "metadata": {
        "id": "eKY-6Gqf0DWS",
        "colab": {
          "base_uri": "https://localhost:8080/"
        },
        "outputId": "f494dd4f-c97d-40f9-e246-b01e43eafd97"
      },
      "execution_count": null,
      "outputs": [
        {
          "output_type": "stream",
          "name": "stdout",
          "text": [
            "Epoch 1/10\n",
            "84/84 [==============================] - 777s 9s/step - loss: 0.3835 - binary_accuracy: 0.8378 - auc_1: 0.7412 - val_loss: 2777.5527 - val_binary_accuracy: 0.6515 - val_auc_1: 0.6148\n",
            "Epoch 2/10\n",
            "84/84 [==============================] - 760s 9s/step - loss: 0.3683 - binary_accuracy: 0.8449 - auc_1: 0.7564 - val_loss: 236.2747 - val_binary_accuracy: 0.5079 - val_auc_1: 0.5708\n",
            "Epoch 3/10\n",
            "84/84 [==============================] - 768s 9s/step - loss: 0.3660 - binary_accuracy: 0.8460 - auc_1: 0.7588 - val_loss: 218.2800 - val_binary_accuracy: 0.4517 - val_auc_1: 0.3550\n",
            "Epoch 4/10\n",
            "84/84 [==============================] - 769s 9s/step - loss: 0.3664 - binary_accuracy: 0.8455 - auc_1: 0.7594 - val_loss: 980.7206 - val_binary_accuracy: 0.3488 - val_auc_1: 0.5040\n",
            "Epoch 5/10\n",
            "84/84 [==============================] - 773s 9s/step - loss: 0.3665 - binary_accuracy: 0.8439 - auc_1: 0.7596 - val_loss: 97.2294 - val_binary_accuracy: 0.4492 - val_auc_1: 0.4630\n",
            "Epoch 6/10\n",
            "84/84 [==============================] - 765s 9s/step - loss: 0.3656 - binary_accuracy: 0.8462 - auc_1: 0.7599 - val_loss: 119.0185 - val_binary_accuracy: 0.4523 - val_auc_1: 0.4626\n",
            "Epoch 7/10\n",
            "84/84 [==============================] - 764s 9s/step - loss: 0.3660 - binary_accuracy: 0.8458 - auc_1: 0.7607 - val_loss: 57.5225 - val_binary_accuracy: 0.4615 - val_auc_1: 0.3861\n",
            "Epoch 8/10\n",
            "84/84 [==============================] - 764s 9s/step - loss: 0.3658 - binary_accuracy: 0.8462 - auc_1: 0.7606 - val_loss: 164.9902 - val_binary_accuracy: 0.3261 - val_auc_1: 0.4623\n",
            "Epoch 9/10\n",
            "84/84 [==============================] - 771s 9s/step - loss: 0.3652 - binary_accuracy: 0.8474 - auc_1: 0.7620 - val_loss: 84.4311 - val_binary_accuracy: 0.4549 - val_auc_1: 0.4734\n",
            "Epoch 10/10\n",
            "84/84 [==============================] - 766s 9s/step - loss: 0.3644 - binary_accuracy: 0.8472 - auc_1: 0.7632 - val_loss: 79.0761 - val_binary_accuracy: 0.3826 - val_auc_1: 0.4406\n"
          ]
        },
        {
          "output_type": "execute_result",
          "data": {
            "text/plain": [
              "<keras.callbacks.History at 0x7f933a0f58e0>"
            ]
          },
          "metadata": {},
          "execution_count": 36
        }
      ]
    },
    {
      "cell_type": "code",
      "source": [
        "#Fetching probability predictions of each validation and testing images \n",
        "val_pred = model.predict(X_val)\n",
        "np.save('/content/drive/MyDrive/res18_val_out_final.npy', val_pred)  \n",
        "\n",
        "test_pred = model.predict(test_new)\n",
        "np.save('/content/drive/MyDrive/res18_test_out_final.npy', test_pred)  "
      ],
      "metadata": {
        "id": "1rRhy_FS_BOt",
        "colab": {
          "base_uri": "https://localhost:8080/"
        },
        "outputId": "4b5e7440-9736-4b83-ba7a-74d2ebbb32b6"
      },
      "execution_count": null,
      "outputs": [
        {
          "output_type": "stream",
          "name": "stdout",
          "text": [
            "9/9 [==============================] - 19s 2s/step\n",
            "17/17 [==============================] - 36s 2s/step\n"
          ]
        }
      ]
    },
    {
      "cell_type": "code",
      "source": [
        "#Model Ending"
      ],
      "metadata": {
        "id": "jU9_5rNUh3DX"
      },
      "execution_count": null,
      "outputs": []
    }
  ]
}